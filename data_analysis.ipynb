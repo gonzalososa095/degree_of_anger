{
 "cells": [
  {
   "cell_type": "code",
   "execution_count": 1,
   "id": "answering-layout",
   "metadata": {},
   "outputs": [],
   "source": [
    "import pandas as pd\n",
    "import numpy as np\n",
    "import seaborn as sns\n",
    "import matplotlib.pyplot as plt\n",
    "import scipy as sc\n",
    "from sklearn.linear_model import LinearRegression\n",
    "import scikit_posthocs"
   ]
  },
  {
   "cell_type": "markdown",
   "id": "sublime-wednesday",
   "metadata": {},
   "source": [
    "## Database"
   ]
  },
  {
   "cell_type": "markdown",
   "id": "spiritual-money",
   "metadata": {},
   "source": [
    "Import of the scale values of the subjective test results. This scale values represent the perception of the degree of anger. A higher scale value means a higher perception of anger"
   ]
  },
  {
   "cell_type": "code",
   "execution_count": 3,
   "id": "pointed-sauce",
   "metadata": {},
   "outputs": [],
   "source": [
    "df = pd.read_csv('scale_value_results.csv')"
   ]
  },
  {
   "cell_type": "code",
   "execution_count": 4,
   "id": "solid-representative",
   "metadata": {},
   "outputs": [
    {
     "data": {
      "text/html": [
       "<div>\n",
       "<style scoped>\n",
       "    .dataframe tbody tr th:only-of-type {\n",
       "        vertical-align: middle;\n",
       "    }\n",
       "\n",
       "    .dataframe tbody tr th {\n",
       "        vertical-align: top;\n",
       "    }\n",
       "\n",
       "    .dataframe thead th {\n",
       "        text-align: right;\n",
       "    }\n",
       "</style>\n",
       "<table border=\"1\" class=\"dataframe\">\n",
       "  <thead>\n",
       "    <tr style=\"text-align: right;\">\n",
       "      <th></th>\n",
       "      <th>subject</th>\n",
       "      <th>german1</th>\n",
       "      <th>german2</th>\n",
       "      <th>german3</th>\n",
       "      <th>greek1</th>\n",
       "      <th>greek2</th>\n",
       "      <th>greek3</th>\n",
       "    </tr>\n",
       "  </thead>\n",
       "  <tbody>\n",
       "    <tr>\n",
       "      <th>0</th>\n",
       "      <td>1</td>\n",
       "      <td>-0.626657</td>\n",
       "      <td>0.208886</td>\n",
       "      <td>0.626657</td>\n",
       "      <td>-1.044428</td>\n",
       "      <td>0.000000</td>\n",
       "      <td>0.835543</td>\n",
       "    </tr>\n",
       "    <tr>\n",
       "      <th>1</th>\n",
       "      <td>2</td>\n",
       "      <td>-0.208886</td>\n",
       "      <td>0.626657</td>\n",
       "      <td>1.044428</td>\n",
       "      <td>-0.626657</td>\n",
       "      <td>0.000000</td>\n",
       "      <td>-0.835543</td>\n",
       "    </tr>\n",
       "    <tr>\n",
       "      <th>2</th>\n",
       "      <td>3</td>\n",
       "      <td>0.208886</td>\n",
       "      <td>0.208886</td>\n",
       "      <td>1.044428</td>\n",
       "      <td>-1.044428</td>\n",
       "      <td>0.208886</td>\n",
       "      <td>-0.626657</td>\n",
       "    </tr>\n",
       "    <tr>\n",
       "      <th>3</th>\n",
       "      <td>4</td>\n",
       "      <td>-0.835543</td>\n",
       "      <td>-0.835543</td>\n",
       "      <td>1.044428</td>\n",
       "      <td>0.417771</td>\n",
       "      <td>0.417771</td>\n",
       "      <td>-0.208886</td>\n",
       "    </tr>\n",
       "    <tr>\n",
       "      <th>4</th>\n",
       "      <td>5</td>\n",
       "      <td>0.208886</td>\n",
       "      <td>0.208886</td>\n",
       "      <td>1.044428</td>\n",
       "      <td>-1.044428</td>\n",
       "      <td>-0.208886</td>\n",
       "      <td>-0.208886</td>\n",
       "    </tr>\n",
       "  </tbody>\n",
       "</table>\n",
       "</div>"
      ],
      "text/plain": [
       "   subject   german1   german2   german3    greek1    greek2    greek3\n",
       "0        1 -0.626657  0.208886  0.626657 -1.044428  0.000000  0.835543\n",
       "1        2 -0.208886  0.626657  1.044428 -0.626657  0.000000 -0.835543\n",
       "2        3  0.208886  0.208886  1.044428 -1.044428  0.208886 -0.626657\n",
       "3        4 -0.835543 -0.835543  1.044428  0.417771  0.417771 -0.208886\n",
       "4        5  0.208886  0.208886  1.044428 -1.044428 -0.208886 -0.208886"
      ]
     },
     "execution_count": 4,
     "metadata": {},
     "output_type": "execute_result"
    }
   ],
   "source": [
    "df.head()"
   ]
  },
  {
   "cell_type": "markdown",
   "id": "suspended-surge",
   "metadata": {},
   "source": [
    "Re-shape the data"
   ]
  },
  {
   "cell_type": "code",
   "execution_count": 5,
   "id": "painful-argentina",
   "metadata": {},
   "outputs": [],
   "source": [
    "df_melt = pd.melt(df,id_vars=['subject'],value_vars=['german1', 'german2','german3','greek1','greek2','greek3'],value_name='SV')"
   ]
  },
  {
   "cell_type": "code",
   "execution_count": 6,
   "id": "double-narrative",
   "metadata": {},
   "outputs": [],
   "source": [
    "df_melt['language'] = df_melt.variable.apply(lambda x: 'german' if x[1] == 'e' else 'greek')"
   ]
  },
  {
   "cell_type": "code",
   "execution_count": 7,
   "id": "dated-sheffield",
   "metadata": {},
   "outputs": [],
   "source": [
    "german_sv = df_melt[df_melt.language == 'german'].SV\n",
    "greek_sv = df_melt[df_melt.language == 'greek'].SV"
   ]
  },
  {
   "cell_type": "code",
   "execution_count": 8,
   "id": "discrete-optimization",
   "metadata": {},
   "outputs": [
    {
     "data": {
      "text/html": [
       "<div>\n",
       "<style scoped>\n",
       "    .dataframe tbody tr th:only-of-type {\n",
       "        vertical-align: middle;\n",
       "    }\n",
       "\n",
       "    .dataframe tbody tr th {\n",
       "        vertical-align: top;\n",
       "    }\n",
       "\n",
       "    .dataframe thead th {\n",
       "        text-align: right;\n",
       "    }\n",
       "</style>\n",
       "<table border=\"1\" class=\"dataframe\">\n",
       "  <thead>\n",
       "    <tr style=\"text-align: right;\">\n",
       "      <th></th>\n",
       "      <th>subject</th>\n",
       "      <th>variable</th>\n",
       "      <th>SV</th>\n",
       "      <th>language</th>\n",
       "    </tr>\n",
       "  </thead>\n",
       "  <tbody>\n",
       "    <tr>\n",
       "      <th>0</th>\n",
       "      <td>1</td>\n",
       "      <td>german1</td>\n",
       "      <td>-0.626657</td>\n",
       "      <td>german</td>\n",
       "    </tr>\n",
       "    <tr>\n",
       "      <th>1</th>\n",
       "      <td>2</td>\n",
       "      <td>german1</td>\n",
       "      <td>-0.208886</td>\n",
       "      <td>german</td>\n",
       "    </tr>\n",
       "    <tr>\n",
       "      <th>2</th>\n",
       "      <td>3</td>\n",
       "      <td>german1</td>\n",
       "      <td>0.208886</td>\n",
       "      <td>german</td>\n",
       "    </tr>\n",
       "    <tr>\n",
       "      <th>3</th>\n",
       "      <td>4</td>\n",
       "      <td>german1</td>\n",
       "      <td>-0.835543</td>\n",
       "      <td>german</td>\n",
       "    </tr>\n",
       "    <tr>\n",
       "      <th>4</th>\n",
       "      <td>5</td>\n",
       "      <td>german1</td>\n",
       "      <td>0.208886</td>\n",
       "      <td>german</td>\n",
       "    </tr>\n",
       "  </tbody>\n",
       "</table>\n",
       "</div>"
      ],
      "text/plain": [
       "   subject variable        SV language\n",
       "0        1  german1 -0.626657   german\n",
       "1        2  german1 -0.208886   german\n",
       "2        3  german1  0.208886   german\n",
       "3        4  german1 -0.835543   german\n",
       "4        5  german1  0.208886   german"
      ]
     },
     "execution_count": 8,
     "metadata": {},
     "output_type": "execute_result"
    }
   ],
   "source": [
    "df_melt.head()"
   ]
  },
  {
   "cell_type": "markdown",
   "id": "indonesian-advertising",
   "metadata": {},
   "source": [
    "Boxplot of individual scale values"
   ]
  },
  {
   "cell_type": "code",
   "execution_count": 10,
   "id": "operational-malawi",
   "metadata": {},
   "outputs": [
    {
     "data": {
      "image/png": "[encoded data removed]",
      "text/plain": [
       "<Figure size 1008x504 with 1 Axes>"
      ]
     },
     "metadata": {
      "needs_background": "light"
     },
     "output_type": "display_data"
    }
   ],
   "source": [
    "dims = (14, 7)\n",
    "fig, ax = plt.subplots(figsize=dims)\n",
    "with sns.axes_style('darkgrid'):\n",
    "    ax = sns.boxplot(x=df_melt.variable,y=df_melt.SV,data = df_melt, palette = 'muted',ax=ax,order=['greek1','greek2','greek3','german1','german2','german3'])\n",
    "    ax.set_xlabel('Stimuli',size=20)\n",
    "    ax.set_ylabel('Scale Value',size=20)\n",
    "    ax.set_xticklabels(['Greek1','Greek2','Greek3','German1','German2','German3'],size=15)\n",
    "    plt.grid()\n",
    "    #ax.set_yticks([-1,-0.9,-0.8,-0.7,-0.6,-0.5,-0.4,-0.3,-0.2,-0.1,0,0.1,0.2,0.3,0.4,0.5,0.6,0.7,0.8,0.9,1])\n",
    "    #ax.set_yticklabels(['0','100000','200000','300000','400000','500000'],size=15)"
   ]
  },
  {
   "cell_type": "markdown",
   "id": "defined-speech",
   "metadata": {},
   "source": [
    "### Normality test"
   ]
  },
  {
   "cell_type": "code",
   "execution_count": 11,
   "id": "lightweight-commonwealth",
   "metadata": {},
   "outputs": [],
   "source": [
    "stimuli = ['german1','german2','german3','greek1','greek2','greek3']"
   ]
  },
  {
   "cell_type": "code",
   "execution_count": 12,
   "id": "composed-fetish",
   "metadata": {},
   "outputs": [],
   "source": [
    "shapiro_result = []\n",
    "p_value = []\n",
    "for i in stimuli:\n",
    "    s,p = sc.stats.shapiro(df_melt[df_melt.variable == i].SV)\n",
    "    shapiro_result.append(s)\n",
    "    p_value.append(p)\n",
    "shapiro_dict = {'stimuli' :stimuli, 'shapiro_result' : shapiro_result,'p_value': p_value}    "
   ]
  },
  {
   "cell_type": "code",
   "execution_count": 13,
   "id": "stable-catalyst",
   "metadata": {},
   "outputs": [],
   "source": [
    "shapiro = pd.DataFrame(shapiro_dict)"
   ]
  },
  {
   "cell_type": "code",
   "execution_count": 14,
   "id": "impaired-layer",
   "metadata": {},
   "outputs": [
    {
     "data": {
      "text/html": [
       "<div>\n",
       "<style scoped>\n",
       "    .dataframe tbody tr th:only-of-type {\n",
       "        vertical-align: middle;\n",
       "    }\n",
       "\n",
       "    .dataframe tbody tr th {\n",
       "        vertical-align: top;\n",
       "    }\n",
       "\n",
       "    .dataframe thead th {\n",
       "        text-align: right;\n",
       "    }\n",
       "</style>\n",
       "<table border=\"1\" class=\"dataframe\">\n",
       "  <thead>\n",
       "    <tr style=\"text-align: right;\">\n",
       "      <th></th>\n",
       "      <th>stimuli</th>\n",
       "      <th>shapiro_result</th>\n",
       "      <th>p_value</th>\n",
       "    </tr>\n",
       "  </thead>\n",
       "  <tbody>\n",
       "    <tr>\n",
       "      <th>0</th>\n",
       "      <td>german1</td>\n",
       "      <td>0.941252</td>\n",
       "      <td>0.073877</td>\n",
       "    </tr>\n",
       "    <tr>\n",
       "      <th>1</th>\n",
       "      <td>german2</td>\n",
       "      <td>0.861780</td>\n",
       "      <td>0.000625</td>\n",
       "    </tr>\n",
       "    <tr>\n",
       "      <th>2</th>\n",
       "      <td>german3</td>\n",
       "      <td>0.766995</td>\n",
       "      <td>0.000008</td>\n",
       "    </tr>\n",
       "    <tr>\n",
       "      <th>3</th>\n",
       "      <td>greek1</td>\n",
       "      <td>0.827181</td>\n",
       "      <td>0.000111</td>\n",
       "    </tr>\n",
       "    <tr>\n",
       "      <th>4</th>\n",
       "      <td>greek2</td>\n",
       "      <td>0.967906</td>\n",
       "      <td>0.424645</td>\n",
       "    </tr>\n",
       "    <tr>\n",
       "      <th>5</th>\n",
       "      <td>greek3</td>\n",
       "      <td>0.971392</td>\n",
       "      <td>0.519610</td>\n",
       "    </tr>\n",
       "  </tbody>\n",
       "</table>\n",
       "</div>"
      ],
      "text/plain": [
       "   stimuli  shapiro_result   p_value\n",
       "0  german1        0.941252  0.073877\n",
       "1  german2        0.861780  0.000625\n",
       "2  german3        0.766995  0.000008\n",
       "3   greek1        0.827181  0.000111\n",
       "4   greek2        0.967906  0.424645\n",
       "5   greek3        0.971392  0.519610"
      ]
     },
     "execution_count": 14,
     "metadata": {},
     "output_type": "execute_result"
    }
   ],
   "source": [
    "shapiro"
   ]
  },
  {
   "cell_type": "markdown",
   "id": "stuck-apparel",
   "metadata": {},
   "source": [
    "German1, Greek2 and Greek3 normal"
   ]
  },
  {
   "cell_type": "markdown",
   "id": "unauthorized-nylon",
   "metadata": {},
   "source": [
    "Normality by language"
   ]
  },
  {
   "cell_type": "code",
   "execution_count": 15,
   "id": "general-dictionary",
   "metadata": {},
   "outputs": [
    {
     "data": {
      "text/html": [
       "<div>\n",
       "<style scoped>\n",
       "    .dataframe tbody tr th:only-of-type {\n",
       "        vertical-align: middle;\n",
       "    }\n",
       "\n",
       "    .dataframe tbody tr th {\n",
       "        vertical-align: top;\n",
       "    }\n",
       "\n",
       "    .dataframe thead th {\n",
       "        text-align: right;\n",
       "    }\n",
       "</style>\n",
       "<table border=\"1\" class=\"dataframe\">\n",
       "  <thead>\n",
       "    <tr style=\"text-align: right;\">\n",
       "      <th></th>\n",
       "      <th>subject</th>\n",
       "      <th>variable</th>\n",
       "      <th>SV</th>\n",
       "      <th>language</th>\n",
       "    </tr>\n",
       "  </thead>\n",
       "  <tbody>\n",
       "    <tr>\n",
       "      <th>0</th>\n",
       "      <td>1</td>\n",
       "      <td>german1</td>\n",
       "      <td>-0.626657</td>\n",
       "      <td>german</td>\n",
       "    </tr>\n",
       "    <tr>\n",
       "      <th>1</th>\n",
       "      <td>2</td>\n",
       "      <td>german1</td>\n",
       "      <td>-0.208886</td>\n",
       "      <td>german</td>\n",
       "    </tr>\n",
       "    <tr>\n",
       "      <th>2</th>\n",
       "      <td>3</td>\n",
       "      <td>german1</td>\n",
       "      <td>0.208886</td>\n",
       "      <td>german</td>\n",
       "    </tr>\n",
       "    <tr>\n",
       "      <th>3</th>\n",
       "      <td>4</td>\n",
       "      <td>german1</td>\n",
       "      <td>-0.835543</td>\n",
       "      <td>german</td>\n",
       "    </tr>\n",
       "    <tr>\n",
       "      <th>4</th>\n",
       "      <td>5</td>\n",
       "      <td>german1</td>\n",
       "      <td>0.208886</td>\n",
       "      <td>german</td>\n",
       "    </tr>\n",
       "  </tbody>\n",
       "</table>\n",
       "</div>"
      ],
      "text/plain": [
       "   subject variable        SV language\n",
       "0        1  german1 -0.626657   german\n",
       "1        2  german1 -0.208886   german\n",
       "2        3  german1  0.208886   german\n",
       "3        4  german1 -0.835543   german\n",
       "4        5  german1  0.208886   german"
      ]
     },
     "execution_count": 15,
     "metadata": {},
     "output_type": "execute_result"
    }
   ],
   "source": [
    "df_melt.head()"
   ]
  },
  {
   "cell_type": "code",
   "execution_count": 16,
   "id": "announced-front",
   "metadata": {},
   "outputs": [],
   "source": [
    "shapiro_result_language = []\n",
    "p_value_language = []\n",
    "for i in ['greek','german']:\n",
    "    s,p = sc.stats.shapiro(df_melt[df_melt.language == i].SV)\n",
    "    shapiro_result_language.append(s)\n",
    "    p_value_language.append(p)\n",
    "shapiro_dict_language = {'stimuli' :['greek','german'], 'shapiro_result' : shapiro_result_language,'p_value': p_value_language} \n",
    "shapiro_language = pd.DataFrame(shapiro_dict_language)"
   ]
  },
  {
   "cell_type": "code",
   "execution_count": 17,
   "id": "appointed-ontario",
   "metadata": {},
   "outputs": [
    {
     "data": {
      "text/html": [
       "<div>\n",
       "<style scoped>\n",
       "    .dataframe tbody tr th:only-of-type {\n",
       "        vertical-align: middle;\n",
       "    }\n",
       "\n",
       "    .dataframe tbody tr th {\n",
       "        vertical-align: top;\n",
       "    }\n",
       "\n",
       "    .dataframe thead th {\n",
       "        text-align: right;\n",
       "    }\n",
       "</style>\n",
       "<table border=\"1\" class=\"dataframe\">\n",
       "  <thead>\n",
       "    <tr style=\"text-align: right;\">\n",
       "      <th></th>\n",
       "      <th>stimuli</th>\n",
       "      <th>shapiro_result</th>\n",
       "      <th>p_value</th>\n",
       "    </tr>\n",
       "  </thead>\n",
       "  <tbody>\n",
       "    <tr>\n",
       "      <th>0</th>\n",
       "      <td>greek</td>\n",
       "      <td>0.947682</td>\n",
       "      <td>0.000629</td>\n",
       "    </tr>\n",
       "    <tr>\n",
       "      <th>1</th>\n",
       "      <td>german</td>\n",
       "      <td>0.926368</td>\n",
       "      <td>0.000034</td>\n",
       "    </tr>\n",
       "  </tbody>\n",
       "</table>\n",
       "</div>"
      ],
      "text/plain": [
       "  stimuli  shapiro_result   p_value\n",
       "0   greek        0.947682  0.000629\n",
       "1  german        0.926368  0.000034"
      ]
     },
     "execution_count": 17,
     "metadata": {},
     "output_type": "execute_result"
    }
   ],
   "source": [
    "shapiro_language"
   ]
  },
  {
   "cell_type": "markdown",
   "id": "german-archives",
   "metadata": {},
   "source": [
    "Normality not confirmed"
   ]
  },
  {
   "cell_type": "markdown",
   "id": "established-deviation",
   "metadata": {},
   "source": [
    "### Homogenity test"
   ]
  },
  {
   "cell_type": "code",
   "execution_count": 18,
   "id": "magnetic-pizza",
   "metadata": {},
   "outputs": [
    {
     "name": "stdout",
     "output_type": "stream",
     "text": [
      "2.432606198491166\n",
      "0.036402372890006654\n"
     ]
    }
   ],
   "source": [
    "l,p = sc.stats.levene(df_melt[df_melt.variable == stimuli[0]].SV,df_melt[df_melt.variable == stimuli[1]].SV,\n",
    "                     df_melt[df_melt.variable == stimuli[2]].SV,df_melt[df_melt.variable == stimuli[3]].SV,\n",
    "                     df_melt[df_melt.variable == stimuli[4]].SV,df_melt[df_melt.variable == stimuli[5]].SV,center='median')\n",
    "print(l)\n",
    "print(p)    "
   ]
  },
  {
   "cell_type": "markdown",
   "id": "forward-prerequisite",
   "metadata": {},
   "source": [
    "Homogenity of variance not confirmed"
   ]
  },
  {
   "cell_type": "markdown",
   "id": "southern-replacement",
   "metadata": {},
   "source": [
    "## Kruskal Wallis test"
   ]
  },
  {
   "cell_type": "markdown",
   "id": "treated-turtle",
   "metadata": {},
   "source": [
    "Now we need to import the objective parameter which is de variation of fundamental frequency of each audio"
   ]
  },
  {
   "cell_type": "code",
   "execution_count": 23,
   "id": "olive-cardiff",
   "metadata": {},
   "outputs": [],
   "source": [
    "std_fo_mel = {'german1': 178.31, 'german2': 233.57,'german3': 284.71,'greek1': 98.9,'greek2': 148.08,'greek3': 177.54}"
   ]
  },
  {
   "cell_type": "code",
   "execution_count": 24,
   "id": "failing-angle",
   "metadata": {},
   "outputs": [],
   "source": [
    "df_melt['std_fo_mel'] = df_melt.variable.apply(lambda x: std_fo_mel[x])"
   ]
  },
  {
   "cell_type": "code",
   "execution_count": 25,
   "id": "naughty-producer",
   "metadata": {},
   "outputs": [
    {
     "data": {
      "text/html": [
       "<div>\n",
       "<style scoped>\n",
       "    .dataframe tbody tr th:only-of-type {\n",
       "        vertical-align: middle;\n",
       "    }\n",
       "\n",
       "    .dataframe tbody tr th {\n",
       "        vertical-align: top;\n",
       "    }\n",
       "\n",
       "    .dataframe thead th {\n",
       "        text-align: right;\n",
       "    }\n",
       "</style>\n",
       "<table border=\"1\" class=\"dataframe\">\n",
       "  <thead>\n",
       "    <tr style=\"text-align: right;\">\n",
       "      <th></th>\n",
       "      <th>subject</th>\n",
       "      <th>variable</th>\n",
       "      <th>SV</th>\n",
       "      <th>language</th>\n",
       "      <th>std_fo_mel</th>\n",
       "    </tr>\n",
       "  </thead>\n",
       "  <tbody>\n",
       "    <tr>\n",
       "      <th>0</th>\n",
       "      <td>1</td>\n",
       "      <td>german1</td>\n",
       "      <td>-0.626657</td>\n",
       "      <td>german</td>\n",
       "      <td>178.31</td>\n",
       "    </tr>\n",
       "    <tr>\n",
       "      <th>1</th>\n",
       "      <td>2</td>\n",
       "      <td>german1</td>\n",
       "      <td>-0.208886</td>\n",
       "      <td>german</td>\n",
       "      <td>178.31</td>\n",
       "    </tr>\n",
       "    <tr>\n",
       "      <th>2</th>\n",
       "      <td>3</td>\n",
       "      <td>german1</td>\n",
       "      <td>0.208886</td>\n",
       "      <td>german</td>\n",
       "      <td>178.31</td>\n",
       "    </tr>\n",
       "    <tr>\n",
       "      <th>3</th>\n",
       "      <td>4</td>\n",
       "      <td>german1</td>\n",
       "      <td>-0.835543</td>\n",
       "      <td>german</td>\n",
       "      <td>178.31</td>\n",
       "    </tr>\n",
       "    <tr>\n",
       "      <th>4</th>\n",
       "      <td>5</td>\n",
       "      <td>german1</td>\n",
       "      <td>0.208886</td>\n",
       "      <td>german</td>\n",
       "      <td>178.31</td>\n",
       "    </tr>\n",
       "  </tbody>\n",
       "</table>\n",
       "</div>"
      ],
      "text/plain": [
       "   subject variable        SV language  std_fo_mel\n",
       "0        1  german1 -0.626657   german      178.31\n",
       "1        2  german1 -0.208886   german      178.31\n",
       "2        3  german1  0.208886   german      178.31\n",
       "3        4  german1 -0.835543   german      178.31\n",
       "4        5  german1  0.208886   german      178.31"
      ]
     },
     "execution_count": 25,
     "metadata": {},
     "output_type": "execute_result"
    }
   ],
   "source": [
    "df_melt.head()"
   ]
  },
  {
   "cell_type": "code",
   "execution_count": 26,
   "id": "figured-connectivity",
   "metadata": {},
   "outputs": [
    {
     "name": "stdout",
     "output_type": "stream",
     "text": [
      "297.6703531323956\n",
      "1.0600575691010924e-66\n"
     ]
    }
   ],
   "source": [
    "kruskal,p = sc.stats.kruskal(df_melt.std_fo_mel,df_melt.SV)\n",
    "print(kruskal)\n",
    "print(p)"
   ]
  },
  {
   "cell_type": "markdown",
   "id": "contained-entry",
   "metadata": {},
   "source": [
    "There is significance influence of frequency variation on perception of anger"
   ]
  },
  {
   "cell_type": "markdown",
   "id": "general-dancing",
   "metadata": {},
   "source": [
    "## Post Hoc - Language"
   ]
  },
  {
   "cell_type": "code",
   "execution_count": 29,
   "id": "strange-savage",
   "metadata": {},
   "outputs": [],
   "source": [
    "post_hoc = [german_sv.values,greek_sv.values]"
   ]
  },
  {
   "cell_type": "code",
   "execution_count": 30,
   "id": "broke-onion",
   "metadata": {},
   "outputs": [
    {
     "data": {
      "text/html": [
       "<div>\n",
       "<style scoped>\n",
       "    .dataframe tbody tr th:only-of-type {\n",
       "        vertical-align: middle;\n",
       "    }\n",
       "\n",
       "    .dataframe tbody tr th {\n",
       "        vertical-align: top;\n",
       "    }\n",
       "\n",
       "    .dataframe thead th {\n",
       "        text-align: right;\n",
       "    }\n",
       "</style>\n",
       "<table border=\"1\" class=\"dataframe\">\n",
       "  <thead>\n",
       "    <tr style=\"text-align: right;\">\n",
       "      <th></th>\n",
       "      <th>1</th>\n",
       "      <th>2</th>\n",
       "    </tr>\n",
       "  </thead>\n",
       "  <tbody>\n",
       "    <tr>\n",
       "      <th>1</th>\n",
       "      <td>1.000000</td>\n",
       "      <td>0.000002</td>\n",
       "    </tr>\n",
       "    <tr>\n",
       "      <th>2</th>\n",
       "      <td>0.000002</td>\n",
       "      <td>1.000000</td>\n",
       "    </tr>\n",
       "  </tbody>\n",
       "</table>\n",
       "</div>"
      ],
      "text/plain": [
       "          1         2\n",
       "1  1.000000  0.000002\n",
       "2  0.000002  1.000000"
      ]
     },
     "execution_count": 30,
     "metadata": {},
     "output_type": "execute_result"
    }
   ],
   "source": [
    "scikit_posthocs.posthoc_conover(post_hoc, p_adjust = 'holm')"
   ]
  },
  {
   "cell_type": "markdown",
   "id": "steady-bermuda",
   "metadata": {},
   "source": [
    "## Correlation"
   ]
  },
  {
   "cell_type": "code",
   "execution_count": 31,
   "id": "combined-duncan",
   "metadata": {},
   "outputs": [],
   "source": [
    "SV_globales = [-0.3551666493,0.1445861402,1.006566461,-0.8373654312,0.05974245641,-0.01836297701]"
   ]
  },
  {
   "cell_type": "code",
   "execution_count": 32,
   "id": "monthly-senegal",
   "metadata": {},
   "outputs": [
    {
     "data": {
      "text/html": [
       "<div>\n",
       "<style scoped>\n",
       "    .dataframe tbody tr th:only-of-type {\n",
       "        vertical-align: middle;\n",
       "    }\n",
       "\n",
       "    .dataframe tbody tr th {\n",
       "        vertical-align: top;\n",
       "    }\n",
       "\n",
       "    .dataframe thead th {\n",
       "        text-align: right;\n",
       "    }\n",
       "</style>\n",
       "<table border=\"1\" class=\"dataframe\">\n",
       "  <thead>\n",
       "    <tr style=\"text-align: right;\">\n",
       "      <th></th>\n",
       "      <th>stimuli</th>\n",
       "      <th>std_fo_mel</th>\n",
       "      <th>SV</th>\n",
       "    </tr>\n",
       "  </thead>\n",
       "  <tbody>\n",
       "    <tr>\n",
       "      <th>0</th>\n",
       "      <td>german1</td>\n",
       "      <td>178.31</td>\n",
       "      <td>-0.355167</td>\n",
       "    </tr>\n",
       "    <tr>\n",
       "      <th>1</th>\n",
       "      <td>geman2</td>\n",
       "      <td>233.57</td>\n",
       "      <td>0.144586</td>\n",
       "    </tr>\n",
       "    <tr>\n",
       "      <th>2</th>\n",
       "      <td>german3</td>\n",
       "      <td>284.71</td>\n",
       "      <td>1.006566</td>\n",
       "    </tr>\n",
       "    <tr>\n",
       "      <th>3</th>\n",
       "      <td>greek1</td>\n",
       "      <td>98.90</td>\n",
       "      <td>-0.837365</td>\n",
       "    </tr>\n",
       "    <tr>\n",
       "      <th>4</th>\n",
       "      <td>greek2</td>\n",
       "      <td>148.08</td>\n",
       "      <td>0.059742</td>\n",
       "    </tr>\n",
       "    <tr>\n",
       "      <th>5</th>\n",
       "      <td>greek3</td>\n",
       "      <td>177.54</td>\n",
       "      <td>-0.018363</td>\n",
       "    </tr>\n",
       "  </tbody>\n",
       "</table>\n",
       "</div>"
      ],
      "text/plain": [
       "   stimuli  std_fo_mel        SV\n",
       "0  german1      178.31 -0.355167\n",
       "1   geman2      233.57  0.144586\n",
       "2  german3      284.71  1.006566\n",
       "3   greek1       98.90 -0.837365\n",
       "4   greek2      148.08  0.059742\n",
       "5   greek3      177.54 -0.018363"
      ]
     },
     "execution_count": 32,
     "metadata": {},
     "output_type": "execute_result"
    }
   ],
   "source": [
    "df_corr_dict = {'stimuli':['german1','geman2','german3','greek1','greek2','greek3'],\n",
    "               'std_fo_mel': [178.31,233.57,284.71,98.90,148.08,177.54],\n",
    "               'SV':SV_globales}\n",
    "df_corr = pd.DataFrame(df_corr_dict)\n",
    "df_corr"
   ]
  },
  {
   "cell_type": "markdown",
   "id": "economic-malawi",
   "metadata": {},
   "source": [
    "### Pearson and Spearman"
   ]
  },
  {
   "cell_type": "code",
   "execution_count": 33,
   "id": "earlier-trinity",
   "metadata": {},
   "outputs": [
    {
     "name": "stdout",
     "output_type": "stream",
     "text": [
      "0.9050331358219544\n",
      "0.013099818857462395\n"
     ]
    }
   ],
   "source": [
    "r,p = sc.stats.pearsonr(df_corr.std_fo_mel,df_corr.SV)\n",
    "print(r)\n",
    "print(p)"
   ]
  },
  {
   "cell_type": "markdown",
   "id": "thorough-combining",
   "metadata": {},
   "source": [
    "Significance correlation"
   ]
  },
  {
   "cell_type": "code",
   "execution_count": 34,
   "id": "listed-orientation",
   "metadata": {},
   "outputs": [
    {
     "name": "stdout",
     "output_type": "stream",
     "text": [
      "0.9050331358219544\n",
      "0.07239650145772594\n"
     ]
    }
   ],
   "source": [
    "sp,p = sc.stats.spearmanr(df_corr.std_fo_mel,df_corr.SV)\n",
    "print(r)\n",
    "print(p)"
   ]
  },
  {
   "cell_type": "markdown",
   "id": "medieval-plumbing",
   "metadata": {},
   "source": [
    "## REGRESION LINEAL"
   ]
  },
  {
   "cell_type": "code",
   "execution_count": 35,
   "id": "respected-tumor",
   "metadata": {},
   "outputs": [],
   "source": [
    "X = df_corr[['std_fo_mel']]\n",
    "y = df_corr.SV\n",
    "reg = LinearRegression().fit(X,y)"
   ]
  },
  {
   "cell_type": "code",
   "execution_count": 36,
   "id": "organic-thumbnail",
   "metadata": {},
   "outputs": [
    {
     "name": "stdout",
     "output_type": "stream",
     "text": [
      "Intercepto=   -1.587842596613338\n",
      "RM=   [0.00849788]\n",
      "R2   0.8190849769357204\n"
     ]
    }
   ],
   "source": [
    "print ('Intercepto=', ' ', reg.intercept_)\n",
    "print ('RM=', ' ', reg.coef_)\n",
    "# imprimos la metrica que mide la bondad de ajusto del modelo. En este caso el R2.\n",
    "print ('R2', ' ', reg.score(X, y))"
   ]
  },
  {
   "cell_type": "code",
   "execution_count": 44,
   "id": "exceptional-assumption",
   "metadata": {},
   "outputs": [],
   "source": [
    "def recta(x):\n",
    "    y = reg.coef_ * x + reg.intercept_\n",
    "    return y\n",
    "x = df_corr.std_fo_mel\n",
    "y = [recta(x)[0] for x in x]"
   ]
  },
  {
   "cell_type": "markdown",
   "id": "theoretical-legislation",
   "metadata": {},
   "source": [
    "## Graphs"
   ]
  },
  {
   "cell_type": "code",
   "execution_count": 45,
   "id": "seasonal-devon",
   "metadata": {},
   "outputs": [
    {
     "data": {
      "image/png": "[encoded data removed]",
      "text/plain": [
       "<Figure size 720x216 with 1 Axes>"
      ]
     },
     "metadata": {
      "needs_background": "light"
     },
     "output_type": "display_data"
    }
   ],
   "source": [
    "dims = (10, 3)\n",
    "fig,ax = plt.subplots(figsize=dims)\n",
    "with sns.axes_style('darkgrid'):\n",
    "    g = sns.barplot(x=['Greek1','Greek2','Greek3','German1','German2','German3'],y=df_corr.std_fo_mel.sort_values(),palette='muted')\n",
    "    g.set_xlabel('Stimuli',size=20)\n",
    "    g.set_ylabel('F0 variation [Mel]',size=20)\n",
    "    g.set_yticks([0,50,100,150,200,250,300])\n",
    "    g.set_xticklabels(['Greek1','Greek2','Greek3','German1','German2','German3'],size=15)\n",
    "    g.grid()"
   ]
  },
  {
   "cell_type": "code",
   "execution_count": 46,
   "id": "signed-marking",
   "metadata": {},
   "outputs": [],
   "source": [
    "df_corr['SV2'] = df_corr.SV + 2"
   ]
  },
  {
   "cell_type": "code",
   "execution_count": 47,
   "id": "vital-spanish",
   "metadata": {},
   "outputs": [
    {
     "data": {
      "image/png": "[encoded data removed]",
      "text/plain": [
       "<Figure size 720x216 with 1 Axes>"
      ]
     },
     "metadata": {
      "needs_background": "light"
     },
     "output_type": "display_data"
    }
   ],
   "source": [
    "dims = (10, 3)\n",
    "fig,ax = plt.subplots(figsize=dims)\n",
    "with sns.axes_style('darkgrid'):\n",
    "    g = sns.barplot(x=['Greek1','Greek2','Greek3','German1','German2','German3'],y=[1.08,2.06,1.99,1.63,2.18,3.05],palette='muted')\n",
    "    g.set_xlabel('Stimuli',size=20)\n",
    "    g.set_ylabel('Scale Value',size=20)\n",
    "    g.set_yticks([0,0.5,1.0,1.5,2.0,2.5,3.0,3.5,4])\n",
    "    g.set_yticklabels(['-2','-1.5','-1','-0.5','0','0.5','1','1.5','2'],size=15)\n",
    "    g.set_xticklabels(['Greek1','Greek2','Greek3','German1','German2','German3'],size=15)\n",
    "    g.grid()"
   ]
  },
  {
   "cell_type": "code",
   "execution_count": 48,
   "id": "responsible-wound",
   "metadata": {},
   "outputs": [
    {
     "data": {
      "image/png": "[encoded data removed]",
      "text/plain": [
       "<Figure size 720x216 with 1 Axes>"
      ]
     },
     "metadata": {
      "needs_background": "light"
     },
     "output_type": "display_data"
    }
   ],
   "source": [
    "dims = (10, 3)\n",
    "fig,ax = plt.subplots(figsize=dims)\n",
    "with sns.axes_style('darkgrid'):\n",
    "    g = sns.scatterplot(data=df_corr,y='SV',x='std_fo_mel',alpha = .8,s = 150,color='green')\n",
    "    g = sns.lineplot(x = x,y= y,color='purple')\n",
    "    g.set_xlabel('F0 variation [Mel]',size=20)\n",
    "    g.set_ylabel('Scale Value',size=20)\n",
    "    g.set_yticks([-1,-0.75,-0.5,-0.25,0,0.25,0.5,0.75,1])\n",
    "    g.set_xticks([75,100,125,150,175,200,225,250,275,300])\n",
    "    g.set_xticklabels([75,100,125,150,175,200,225,250,275,300],size=11)\n",
    "    g.grid()"
   ]
  },
  {
   "cell_type": "code",
   "execution_count": 49,
   "id": "featured-portal",
   "metadata": {},
   "outputs": [],
   "source": [
    "combinaciones = ['German1-German2','German1-German3','German1-Greek1','German1-Greek2','German1-Greek3',\n",
    "                'German2-German3','German2-Greek1','German2-Greek2','German2-Greek3','German3-Greek1',\n",
    "                'German3-Greek2','German3-Greek3','Greek1-Greek2','Greek2-Greek3','Greek1-Greek3']*3\n",
    "\n",
    "Choice = ['Voice 1']*15 + ['Voice 2']*15 + ['Tie']*15\n",
    "\n",
    "cantidad = [6,4,24,5,9,2,28,16,19,33,30,31,1,16,4,22,31,4,21,22,26,6,9,15,2,5,5,28,15,26,9,2,9,11,6,9,3,12,3,2,2,1,8,6,7]"
   ]
  },
  {
   "cell_type": "code",
   "execution_count": 50,
   "id": "boolean-drinking",
   "metadata": {},
   "outputs": [],
   "source": [
    "resultados_dict = {'combinaciones':combinaciones,'Choice':Choice,'cantidad':cantidad}"
   ]
  },
  {
   "cell_type": "code",
   "execution_count": 51,
   "id": "moved-marketplace",
   "metadata": {},
   "outputs": [],
   "source": [
    "resultados_df = pd.DataFrame(resultados_dict)"
   ]
  },
  {
   "cell_type": "code",
   "execution_count": 52,
   "id": "dietary-graphics",
   "metadata": {},
   "outputs": [],
   "source": [
    "resultados_df['cantidad'] = (resultados_df.cantidad / 37)*100"
   ]
  },
  {
   "cell_type": "code",
   "execution_count": 53,
   "id": "parallel-death",
   "metadata": {},
   "outputs": [
    {
     "data": {
      "text/html": [
       "<div>\n",
       "<style scoped>\n",
       "    .dataframe tbody tr th:only-of-type {\n",
       "        vertical-align: middle;\n",
       "    }\n",
       "\n",
       "    .dataframe tbody tr th {\n",
       "        vertical-align: top;\n",
       "    }\n",
       "\n",
       "    .dataframe thead th {\n",
       "        text-align: right;\n",
       "    }\n",
       "</style>\n",
       "<table border=\"1\" class=\"dataframe\">\n",
       "  <thead>\n",
       "    <tr style=\"text-align: right;\">\n",
       "      <th></th>\n",
       "      <th>combinaciones</th>\n",
       "      <th>Choice</th>\n",
       "      <th>cantidad</th>\n",
       "    </tr>\n",
       "  </thead>\n",
       "  <tbody>\n",
       "    <tr>\n",
       "      <th>0</th>\n",
       "      <td>German1-German2</td>\n",
       "      <td>Voice 1</td>\n",
       "      <td>16.216216</td>\n",
       "    </tr>\n",
       "    <tr>\n",
       "      <th>1</th>\n",
       "      <td>German1-German3</td>\n",
       "      <td>Voice 1</td>\n",
       "      <td>10.810811</td>\n",
       "    </tr>\n",
       "    <tr>\n",
       "      <th>2</th>\n",
       "      <td>German1-Greek1</td>\n",
       "      <td>Voice 1</td>\n",
       "      <td>64.864865</td>\n",
       "    </tr>\n",
       "    <tr>\n",
       "      <th>3</th>\n",
       "      <td>German1-Greek2</td>\n",
       "      <td>Voice 1</td>\n",
       "      <td>13.513514</td>\n",
       "    </tr>\n",
       "    <tr>\n",
       "      <th>4</th>\n",
       "      <td>German1-Greek3</td>\n",
       "      <td>Voice 1</td>\n",
       "      <td>24.324324</td>\n",
       "    </tr>\n",
       "  </tbody>\n",
       "</table>\n",
       "</div>"
      ],
      "text/plain": [
       "     combinaciones   Choice   cantidad\n",
       "0  German1-German2  Voice 1  16.216216\n",
       "1  German1-German3  Voice 1  10.810811\n",
       "2   German1-Greek1  Voice 1  64.864865\n",
       "3   German1-Greek2  Voice 1  13.513514\n",
       "4   German1-Greek3  Voice 1  24.324324"
      ]
     },
     "execution_count": 53,
     "metadata": {},
     "output_type": "execute_result"
    }
   ],
   "source": [
    "resultados_df.head()"
   ]
  },
  {
   "cell_type": "code",
   "execution_count": 121,
   "id": "standard-reservoir",
   "metadata": {},
   "outputs": [],
   "source": [
    "labels = ['German1-German2','German1-German3','German1-Greek1','German1-Greek2','German1-Greek3',\n",
    "                'German2-German3','German2-Greek1','German2-Greek2','German2-Greek3','German3-Greek1',\n",
    "                'German3-Greek2','German3-Greek3','Greek1-Greek2','Greek2-Greek3','Greek1-Greek3']"
   ]
  },
  {
   "cell_type": "code",
   "execution_count": 122,
   "id": "incredible-words",
   "metadata": {},
   "outputs": [],
   "source": [
    "colors = sns.color_palette()"
   ]
  },
  {
   "cell_type": "code",
   "execution_count": 123,
   "id": "ideal-glasgow",
   "metadata": {},
   "outputs": [
    {
     "data": {
      "image/png": "[encoded data removed]",
      "text/plain": [
       "<Figure size 1080x288 with 1 Axes>"
      ]
     },
     "metadata": {
      "needs_background": "light"
     },
     "output_type": "display_data"
    }
   ],
   "source": [
    "dims = (15, 4)\n",
    "fig,ax = plt.subplots(figsize=dims)\n",
    "with sns.axes_style('darkgrid'):\n",
    "    g = sns.barplot(x=resultados_df.combinaciones,y=resultados_df.cantidad,hue=resultados_df.Choice)\n",
    "    g.set_xlabel('Pairs',size=20)\n",
    "    g.set_ylabel('Answers [%]',size=20)\n",
    "    g.set_yticks([0,10,20,30,40,50,60,70,80,90,100])\n",
    "    g.grid()\n",
    "    #g.set_yticklabels(['-1.5','-1','-0.5','0','0.5','1'],size=15)\n",
    "    g.set_xticklabels(labels,size=10,rotation=60)\n",
    "    #g.grid()"
   ]
  },
  {
   "cell_type": "code",
   "execution_count": null,
   "id": "reverse-nickname",
   "metadata": {},
   "outputs": [],
   "source": []
  }
 ],
 "metadata": {
  "kernelspec": {
   "display_name": "Python 3",
   "language": "python",
   "name": "python3"
  },
  "language_info": {
   "codemirror_mode": {
    "name": "ipython",
    "version": 3
   },
   "file_extension": ".py",
   "mimetype": "text/x-python",
   "name": "python",
   "nbconvert_exporter": "python",
   "pygments_lexer": "ipython3",
   "version": "3.7.0"
  }
 },
 "nbformat": 4,
 "nbformat_minor": 5
}
